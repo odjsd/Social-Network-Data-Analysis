{
 "cells": [
  {
   "cell_type": "markdown",
   "metadata": {},
   "source": [
    "# Project - Social Media Data Analysis - Random Data\n",
    "<p>As a part of Coursera Project Network</p>"
   ]
  },
  {
   "cell_type": "markdown",
   "metadata": {},
   "source": [
    "## Introduction\n",
    "\n",
    "Social media has become a ubiquitous part of modern life, with platforms such as Instagram, Twitter, and Facebook serving as essential communication channels. Social media data sets are vast and complex, making analysis a challenging task for businesses and researchers alike. In this project, we explore a simulated social media, for example Tweets, data set to understand trends in likes across different categories.\n",
    "\n",
    "## Prerequisites\n",
    "\n",
    "To follow along with this project, you should have a basic understanding of Python programming and data analysis concepts. In addition, you may want to use the following packages in your Python environment:\n",
    "\n",
    "- pandas\n",
    "- Matplotlib\n",
    "- ...\n",
    "\n",
    "These packages should already be installed in Coursera's Jupyter Notebook environment, however if you'd like to install additional packages that are not included in this environment or are working off platform you can install additional packages using `!pip install packagename` within a notebook cell such as:\n",
    "\n",
    "- `!pip install pandas`\n",
    "- `!pip install matplotlib`\n",
    "\n",
    "## Project Scope\n",
    "\n",
    "The objective of this project is to analyze tweets (or other social media data) and gain insights into user engagement. We will explore the data set using visualization techniques to understand the distribution of likes across different categories. Finally, we will analyze the data to draw conclusions about the most popular categories and the overall engagement on the platform."
   ]
  },
  {
   "cell_type": "markdown",
   "metadata": {},
   "source": [
    "# Clean & Analyze Social Media"
   ]
  },
  {
   "cell_type": "markdown",
   "metadata": {},
   "source": [
    "## Step 1: Importing Required Libraries\n",
    "\n",
    "As the name suggests, the first step is to import all the necessary libraries that will be used in the project. In this case, we need pandas, numpy, matplotlib, seaborn, and random libraries.\n",
    "\n",
    "Pandas is a library used for data manipulation and analysis. Numpy is a library used for numerical computations. Matplotlib is a library used for data visualization. Seaborn is a library used for statistical data visualization. Random is a library used to generate random numbers."
   ]
  },
  {
   "cell_type": "code",
   "execution_count": 47,
   "metadata": {},
   "outputs": [
    {
     "data": {
      "text/plain": [
       "'Uncomment the lines in case if some of the libraries  are not installed'"
      ]
     },
     "execution_count": 47,
     "metadata": {},
     "output_type": "execute_result"
    }
   ],
   "source": [
    "\"\"\"Uncomment the lines in case if some of the libraries  are not installed\"\"\"\n",
    "#%pip install matplotlib\n",
    "#%pip install pandas\n",
    "#%pip install seaborn\n",
    "#%pip install numpy\n"
   ]
  },
  {
   "cell_type": "markdown",
   "metadata": {},
   "source": [
    "Import libraries"
   ]
  },
  {
   "cell_type": "code",
   "execution_count": 48,
   "metadata": {},
   "outputs": [],
   "source": [
    "import matplotlib.pyplot as plt\n",
    "import pandas as pd\n",
    "import seaborn as sns\n",
    "import numpy as np\n",
    "import random\n",
    "\n",
    "%matplotlib inline"
   ]
  },
  {
   "cell_type": "markdown",
   "metadata": {},
   "source": [
    "## Step 2 - Generate Random Data\n",
    "<p>Generate random data for social media</p>\n",
    "<p>Now that you have the required imports, you need to generate some random tweet data to analyze.\n",
    "There are many ways to generate random data in Python, but some are more convenient than others. In\n",
    "this case, you may use pandas date range to choose a pseudo-random date within a range, the random\n",
    "module’s choice to create a choice from a list, and numpy’s random to create a random integer.\n",
    "</p>"
   ]
  },
  {
   "cell_type": "markdown",
   "metadata": {},
   "source": [
    "First of all you need to define a list of categories for the social media experiment. The list may include\n",
    "the following, for example:<b>\n",
    "Food, Travel, 'Fashion, Fitness, Music, Culture, Family, and Health</b>"
   ]
  },
  {
   "cell_type": "code",
   "execution_count": 49,
   "metadata": {},
   "outputs": [],
   "source": [
    "categories = list()\n",
    "categories = ['Food','Travel','Fashion','Fitness','Music','Culture','Family','Health']"
   ]
  },
  {
   "cell_type": "markdown",
   "metadata": {},
   "source": [
    "Next, generate a Python data dictionary with fields Date, Category, and number of likes, all with random\n",
    "data. You will need the data to align, so the <b>‘Date’</b> dictionary entry should be <b>n</b> periods long, The Category should be a list of random choices n entries long and the Likes category should be random integers in the range <b>0</b> to lets say <b>10000</b> also with size equal to </b>n</b>."
   ]
  },
  {
   "cell_type": "code",
   "execution_count": 50,
   "metadata": {},
   "outputs": [],
   "source": [
    "# specify size and number of entries\n",
    "max_like = 10000\n",
    "n = 500\n",
    "\n",
    "# generate a random data set\n",
    "data = {'Date':pd.date_range('2021-01-01',periods=n),'Category':[random.choice(categories) for _ in range(n)],\"Likes\":np.random.randint(0,max_like,size=n)}\n"
   ]
  },
  {
   "cell_type": "markdown",
   "metadata": {},
   "source": [
    "## Step 3 – Load the data into a Pandas DataFrame and Explore the data\n",
    "\n",
    "The next step is to load the randomly generated data into the pandas dataframe and print the data.\n",
    "To do so, you need to use the DataFrame method of the pandas object and pass the data to it.\n"
   ]
  },
  {
   "cell_type": "code",
   "execution_count": 51,
   "metadata": {},
   "outputs": [],
   "source": [
    "# convert data set to DataFrame\n",
    "df = pd.DataFrame(data)"
   ]
  },
  {
   "cell_type": "markdown",
   "metadata": {},
   "source": [
    "Then, print the dataframe head, the dataframe information, and the dataframe description."
   ]
  },
  {
   "cell_type": "code",
   "execution_count": 52,
   "metadata": {},
   "outputs": [
    {
     "name": "stdout",
     "output_type": "stream",
     "text": [
      "        Date Category  Likes\n",
      "0 2021-01-01  Culture   6300\n",
      "1 2021-01-02   Health   9490\n",
      "2 2021-01-03  Fashion   6860\n",
      "3 2021-01-04     Food   5017\n",
      "4 2021-01-05  Fitness   7019\n",
      "----------------------------------------\n",
      "<class 'pandas.core.frame.DataFrame'>\n",
      "RangeIndex: 500 entries, 0 to 499\n",
      "Data columns (total 3 columns):\n",
      " #   Column    Non-Null Count  Dtype         \n",
      "---  ------    --------------  -----         \n",
      " 0   Date      500 non-null    datetime64[ns]\n",
      " 1   Category  500 non-null    object        \n",
      " 2   Likes     500 non-null    int32         \n",
      "dtypes: datetime64[ns](1), int32(1), object(1)\n",
      "memory usage: 9.9+ KB\n",
      "None\n",
      "----------------------------------------\n",
      "                      Date      Likes\n",
      "count                  500   500.0000\n",
      "mean   2021-09-07 12:00:00  5258.7360\n",
      "min    2021-01-01 00:00:00    12.0000\n",
      "25%    2021-05-05 18:00:00  2953.5000\n",
      "50%    2021-09-07 12:00:00  5202.5000\n",
      "75%    2022-01-10 06:00:00  7942.5000\n",
      "max    2022-05-15 00:00:00  9935.0000\n",
      "std                    NaN  2845.3159\n"
     ]
    }
   ],
   "source": [
    "# Print Dataframe head\n",
    "print(df.head())\n",
    "print(\"----------------------------------------\")\n",
    "# Print DataFrame information\n",
    "print(df.info())\n",
    "print(\"----------------------------------------\")\n",
    "# Print DataFrame description\n",
    "print(df.describe())\n"
   ]
  },
  {
   "cell_type": "markdown",
   "metadata": {},
   "source": [
    "Finally, print the count of each ‘Category’ element."
   ]
  },
  {
   "cell_type": "code",
   "execution_count": 53,
   "metadata": {},
   "outputs": [
    {
     "name": "stdout",
     "output_type": "stream",
     "text": [
      "Category\n",
      "Fashion    72\n",
      "Health     67\n",
      "Music      65\n",
      "Family     65\n",
      "Fitness    63\n",
      "Food       60\n",
      "Culture    54\n",
      "Travel     54\n",
      "Name: count, dtype: int64\n"
     ]
    }
   ],
   "source": [
    "# get number of elements for each \"Category\"\n",
    "print(df['Category'].value_counts())\n"
   ]
  },
  {
   "cell_type": "markdown",
   "metadata": {},
   "source": [
    "## Step 4 – Clean the data\n",
    "An important aspect of processing data is to move invalid data points so you can effectively perform statistics and visualize valid data. The pandas dataframe has built-in functionality to clean the data.\n",
    "\n",
    "First, remove all the null data using the appropriate dataframe drop method. Next, you may want to also remove duplicate data from the dataframe. Use a dataframe method to do so."
   ]
  },
  {
   "cell_type": "code",
   "execution_count": 54,
   "metadata": {},
   "outputs": [
    {
     "name": "stdout",
     "output_type": "stream",
     "text": [
      "<class 'pandas.core.frame.DataFrame'>\n",
      "RangeIndex: 500 entries, 0 to 499\n",
      "Data columns (total 5 columns):\n",
      " #   Column    Non-Null Count  Dtype         \n",
      "---  ------    --------------  -----         \n",
      " 0   level_0   500 non-null    int64         \n",
      " 1   index     500 non-null    int64         \n",
      " 2   Date      500 non-null    datetime64[ns]\n",
      " 3   Category  500 non-null    object        \n",
      " 4   Likes     500 non-null    int32         \n",
      "dtypes: datetime64[ns](1), int32(1), int64(2), object(1)\n",
      "memory usage: 17.7+ KB\n"
     ]
    }
   ],
   "source": [
    "# Remove null data from dataset\n",
    "df.dropna(inplace=True)\n",
    "df.reset_index(inplace=True)\n",
    "\n",
    "# Remove duplicates\n",
    "df.drop_duplicates(inplace=True)\n",
    "df.reset_index(inplace=True)\n",
    "\n",
    "# Check data after cleaning\n",
    "df.info()"
   ]
  },
  {
   "cell_type": "markdown",
   "metadata": {},
   "source": [
    "To appropriately display the data field, convert the dataframe field to a datetime format using the pandas object (not the dataframe). Hint: you pass the dataframe’s ‘Date’ field to the pandas conversion\n",
    "method.\n"
   ]
  },
  {
   "cell_type": "code",
   "execution_count": 55,
   "metadata": {},
   "outputs": [
    {
     "name": "stdout",
     "output_type": "stream",
     "text": [
      "<class 'pandas.core.frame.DataFrame'>\n",
      "RangeIndex: 500 entries, 0 to 499\n",
      "Data columns (total 5 columns):\n",
      " #   Column    Non-Null Count  Dtype         \n",
      "---  ------    --------------  -----         \n",
      " 0   level_0   500 non-null    int64         \n",
      " 1   index     500 non-null    int64         \n",
      " 2   Date      500 non-null    datetime64[ns]\n",
      " 3   Category  500 non-null    object        \n",
      " 4   Likes     500 non-null    int32         \n",
      "dtypes: datetime64[ns](1), int32(1), int64(2), object(1)\n",
      "memory usage: 17.7+ KB\n"
     ]
    }
   ],
   "source": [
    "df['Date'] = pd.to_datetime(df['Date'],format='YYYY-MM-DD')\n",
    "df.info()"
   ]
  },
  {
   "cell_type": "markdown",
   "metadata": {},
   "source": [
    "Next, convert the dataframe ‘Likes’ data to an integer"
   ]
  },
  {
   "cell_type": "code",
   "execution_count": 56,
   "metadata": {},
   "outputs": [
    {
     "name": "stdout",
     "output_type": "stream",
     "text": [
      "<class 'pandas.core.frame.DataFrame'>\n",
      "RangeIndex: 500 entries, 0 to 499\n",
      "Data columns (total 5 columns):\n",
      " #   Column    Non-Null Count  Dtype         \n",
      "---  ------    --------------  -----         \n",
      " 0   level_0   500 non-null    int64         \n",
      " 1   index     500 non-null    int64         \n",
      " 2   Date      500 non-null    datetime64[ns]\n",
      " 3   Category  500 non-null    object        \n",
      " 4   Likes     500 non-null    int32         \n",
      "dtypes: datetime64[ns](1), int32(1), int64(2), object(1)\n",
      "memory usage: 17.7+ KB\n"
     ]
    }
   ],
   "source": [
    "df['Likes'] = df['Likes'].astype(int)\n",
    "df.info()"
   ]
  },
  {
   "cell_type": "markdown",
   "metadata": {},
   "source": [
    "## Step 5 – Visualize and Analyze the data\n",
    "\n",
    "An important aspect of data analysis is the ability to physically view it to visually observe relationships\n",
    "among the data using charts and graphs. \n",
    "The second way to analyze the data is to perform statistics on it, for example compute the average.\n",
    "\n",
    "First, visualize the data using the seaborn module in a histogram plot of the Likes. This is accomplished\n",
    "using the method histplot, passing in the dataframe field ‘Likes’ as in df[‘Likes’].\n",
    "In order to have the histogram show up in the output, use the MathPlotLib.pyplot’s show merthod.\n"
   ]
  },
  {
   "cell_type": "code",
   "execution_count": 57,
   "metadata": {},
   "outputs": [
    {
     "data": {
      "image/png": "[encoded data removed]",
      "text/plain": [
       "<Figure size 640x480 with 1 Axes>"
      ]
     },
     "metadata": {},
     "output_type": "display_data"
    }
   ],
   "source": [
    "# Build a histogram\n",
    "ax = sns.histplot(data=df, x='Likes')\n",
    "plt.xlabel('Likes')\n",
    "plt.ylabel('Frequency')\n",
    "plt.title('Histogram of Likes')\n",
    "plt.show()"
   ]
  },
  {
   "cell_type": "code",
   "execution_count": 58,
   "metadata": {},
   "outputs": [
    {
     "data": {
      "image/png": "[encoded data removed]",
      "text/plain": [
       "<Figure size 640x480 with 1 Axes>"
      ]
     },
     "metadata": {},
     "output_type": "display_data"
    }
   ],
   "source": [
    "# Build a colorfull histogram of Likes by Category\n",
    "\n",
    "\n",
    "sns.histplot(data=df, x='Likes', hue='Category', multiple='stack', alpha=1)\n",
    "plt.title('Histogram of Likes by Category')\n",
    "\n",
    "'''define legend and replocate on a side of the plot, to avoid overlapping\n",
    "    specifying the legen labes manually and repocation causes shift in color schema while the plot does not represent any changes\n",
    "    ask help on stackoverflow'''\n",
    "#legen_labels = df['Category'].unique()\n",
    "#plt.legend(legen_labels,loc='center left', bbox_to_anchor=(1,0.5))\n",
    "\n",
    "plt.show()"
   ]
  },
  {
   "cell_type": "markdown",
   "metadata": {},
   "source": [
    "Now, create a boxplot with the x axis as ‘Category’, and the y axis as ‘Likes’.\n",
    "Be sure to also call the pyplot’s show method to see the boxplot output.\n",
    "Now perform some statistics on the data. First, print out the mean of the ‘Likes’ catregory.\n",
    "Next, use the dataframe’s groupby method to print out the mean of each Category ‘Likes’"
   ]
  },
  {
   "cell_type": "code",
   "execution_count": 59,
   "metadata": {},
   "outputs": [
    {
     "data": {
      "image/png": "[encoded data removed]",
      "text/plain": [
       "<Figure size 640x480 with 1 Axes>"
      ]
     },
     "metadata": {},
     "output_type": "display_data"
    }
   ],
   "source": [
    "# create a box plot of Likes by Category\n",
    "sns.boxplot(data=df, x= 'Category', y= 'Likes',hue='Category')\n",
    "plt.show()"
   ]
  },
  {
   "cell_type": "markdown",
   "metadata": {},
   "source": [
    "Now perform some statistics on the data. First, print out the mean of the ‘Likes’ catregory.\n"
   ]
  },
  {
   "cell_type": "code",
   "execution_count": 60,
   "metadata": {},
   "outputs": [
    {
     "data": {
      "text/plain": [
       "5258.736"
      ]
     },
     "execution_count": 60,
     "metadata": {},
     "output_type": "execute_result"
    }
   ],
   "source": [
    "df['Likes'].mean()"
   ]
  },
  {
   "cell_type": "markdown",
   "metadata": {},
   "source": [
    "Next, use the dataframe’s groupby method to print out the mean of each Category ‘Likes’"
   ]
  },
  {
   "cell_type": "code",
   "execution_count": 61,
   "metadata": {},
   "outputs": [
    {
     "name": "stdout",
     "output_type": "stream",
     "text": [
      "  Category     level_0       index        Likes\n",
      "0  Culture  266.759259  266.759259  5481.203704\n",
      "1   Family  235.169231  235.169231  4817.861538\n",
      "2  Fashion  254.763889  254.763889  4663.347222\n",
      "3  Fitness  276.809524  276.809524  4991.079365\n",
      "4     Food  227.300000  227.300000  5881.383333\n",
      "5   Health  262.283582  262.283582  5773.955224\n",
      "6    Music  264.969231  264.969231  5073.092308\n",
      "7   Travel  200.796296  200.796296  5565.444444\n"
     ]
    },
    {
     "data": {
      "image/png": "[encoded data removed]",
      "text/plain": [
       "<Figure size 640x480 with 1 Axes>"
      ]
     },
     "metadata": {},
     "output_type": "display_data"
    }
   ],
   "source": [
    "# Get mean value of 'Likes' for each category\n",
    "df_avg_likes = df.groupby('Category').mean('Likes')\n",
    "df_avg_likes.reset_index(inplace=True)\n",
    "print(df_avg_likes)\n",
    "# Build a bar plot of average values\n",
    "sns.barplot(data=df_avg_likes, y = 'Likes', x = 'Category')\n",
    "plt.show()\n"
   ]
  },
  {
   "cell_type": "markdown",
   "metadata": {},
   "source": [
    "## Step 5 – Describe Conclusions\n",
    "\n",
    "***This step is Skipped since each new run generates difference results, and descriptive analysis needs to be revised for each run*** \n",
    "\n",
    "Write a conclusion about your process and any key findings.\n",
    "This is your opportunity to impress your prospective employer with your critical thinking and problemsolving skills. You may want to discuss the process you followed and share your struggles and how you overcame them. What do you think sets your portfolio project apart from those of other candidates?\n",
    "You may even want to offer ideas for improving the design for future business endeavors.\n",
    "\n",
    "At this point, you can prepare the project artifacts for uploading into your portfolio. You should include:\n",
    "\n",
    "• An image file of your Graphs and Statistics with the fields and data displayed.\n",
    "\n",
    "• Excerpts from your code explaining the purpose of the code.\n",
    "\n",
    "• Any improvements/changes you would make to the application."
   ]
  },
  {
   "cell_type": "code",
   "execution_count": null,
   "metadata": {},
   "outputs": [],
   "source": []
  },
  {
   "cell_type": "markdown",
   "metadata": {},
   "source": [
    "# Further Work\n",
    "\n",
    "*** 1. Add saving of the generated data to *.csv file ***\n",
    "\n",
    "*** 2. Load data from *.csv file in order to provide constant dataset for analysis ***\n",
    "\n",
    "*** 3. Add description to conclusions based on saved dataset ***"
   ]
  },
  {
   "cell_type": "markdown",
   "metadata": {},
   "source": []
  }
 ],
 "metadata": {
  "kernelspec": {
   "display_name": "Python 3",
   "language": "python",
   "name": "python3"
  },
  "language_info": {
   "codemirror_mode": {
    "name": "ipython",
    "version": 3
   },
   "file_extension": ".py",
   "mimetype": "text/x-python",
   "name": "python",
   "nbconvert_exporter": "python",
   "pygments_lexer": "ipython3",
   "version": "3.12.2"
  }
 },
 "nbformat": 4,
 "nbformat_minor": 2
}
